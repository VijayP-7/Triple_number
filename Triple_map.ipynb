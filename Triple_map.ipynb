{
 "cells": [
  {
   "cell_type": "code",
   "execution_count": null,
   "id": "6127ff8a",
   "metadata": {},
   "outputs": [],
   "source": [
    "##Triple map:-"
   ]
  },
  {
   "cell_type": "code",
   "execution_count": 1,
   "id": "175c9b62",
   "metadata": {},
   "outputs": [
    {
     "name": "stdout",
     "output_type": "stream",
     "text": [
      "Sample list:- [1, 2, 3, 4, 5, 6, 7]\n",
      "Triple of list Number:-\n",
      "[3, 6, 9, 12, 15, 18, 21]\n"
     ]
    }
   ],
   "source": [
    "Num1=[1,2,3,4,5,6,7]\n",
    "print(\"Sample list:-\",Num1)\n",
    "Triple = map(lambda x: x+x+x, Num1)\n",
    "print(\"Triple of list Number:-\")\n",
    "print(list(Triple))"
   ]
  },
  {
   "cell_type": "code",
   "execution_count": null,
   "id": "8fa27053",
   "metadata": {},
   "outputs": [],
   "source": []
  }
 ],
 "metadata": {
  "kernelspec": {
   "display_name": "Python 3 (ipykernel)",
   "language": "python",
   "name": "python3"
  },
  "language_info": {
   "codemirror_mode": {
    "name": "ipython",
    "version": 3
   },
   "file_extension": ".py",
   "mimetype": "text/x-python",
   "name": "python",
   "nbconvert_exporter": "python",
   "pygments_lexer": "ipython3",
   "version": "3.9.12"
  }
 },
 "nbformat": 4,
 "nbformat_minor": 5
}
